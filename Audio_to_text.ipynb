{
  "nbformat": 4,
  "nbformat_minor": 0,
  "metadata": {
    "colab": {
      "name": "Audio_to_text.ipynb",
      "provenance": [],
      "collapsed_sections": []
    },
    "kernelspec": {
      "name": "python3",
      "display_name": "Python 3"
    }
  },
  "cells": [
    {
      "cell_type": "code",
      "metadata": {
        "id": "asjcpYlf7LpX"
      },
      "source": [
        "!pip install SpeechRecognition\n",
        "!pip3 install pydub\n",
        "!pip install youtube_dl\n",
        "!pip install ffmpeg moviepy\n",
        "\n",
        "import speech_recognition as sr\n",
        "from os import path\n",
        "from pydub import AudioSegment\n",
        "\n",
        "from __future__ import unicode_literals\n",
        "import youtube_dl\n",
        "\n",
        "import pandas as pd\n",
        "from collections import defaultdict\n",
        "\n",
        "import wave\n",
        "import contextlib\n",
        "\n",
        "import moviepy.editor as mp\n"
      ],
      "execution_count": null,
      "outputs": []
    },
    {
      "cell_type": "code",
      "metadata": {
        "id": "mTiEXcdq7Uga"
      },
      "source": [
        "ydl_opts = {\n",
        "    'format': 'bestaudio/best',\n",
        "    'postprocessors': [{\n",
        "        'key': 'FFmpegExtractAudio',\n",
        "        'preferredcodec': 'wav',\n",
        "        'preferredquality': '192',\n",
        "    }],\n",
        "}"
      ],
      "execution_count": null,
      "outputs": []
    },
    {
      "cell_type": "code",
      "metadata": {
        "id": "tCB3zdbY7n1p",
        "colab": {
          "base_uri": "https://localhost:8080/",
          "height": 101
        },
        "outputId": "f71c7dcd-1f82-44b1-f848-8175aa4ef88d"
      },
      "source": [
        "with youtube_dl.YoutubeDL(ydl_opts) as ydl:\n",
        "    ydl.download(['https://www.youtube.com/watch?v=4TUrfX0DXjs'])"
      ],
      "execution_count": null,
      "outputs": [
        {
          "output_type": "stream",
          "text": [
            "[youtube] 4TUrfX0DXjs: Downloading webpage\n",
            "[download] Ya perdoné a Felipe Calderón por robarme la Presidencia - AMLO-4TUrfX0DXjs.webm has already been downloaded\n",
            "[download] 100% of 2.01MiB\n",
            "[ffmpeg] Destination: Ya perdoné a Felipe Calderón por robarme la Presidencia - AMLO-4TUrfX0DXjs.wav\n",
            "Deleting original file Ya perdoné a Felipe Calderón por robarme la Presidencia - AMLO-4TUrfX0DXjs.webm (pass -k to keep)\n"
          ],
          "name": "stdout"
        }
      ]
    },
    {
      "cell_type": "code",
      "metadata": {
        "colab": {
          "base_uri": "https://localhost:8080/"
        },
        "id": "Mks2EXfR1RX_",
        "outputId": "1f71f573-22df-4b21-bcab-ced7476ddd07"
      },
      "source": [
        "my_clip = mp.VideoFileClip(r\"/content/6- Comte de Saint-Germain.mp4\")\n",
        "my_clip.audio.write_audiofile(r\"my_result.mp3\")\n"
      ],
      "execution_count": null,
      "outputs": [
        {
          "output_type": "stream",
          "text": [
            "[MoviePy] Writing audio in my_result.mp3\n"
          ],
          "name": "stdout"
        },
        {
          "output_type": "stream",
          "text": [
            "100%|██████████| 4413/4413 [00:06<00:00, 706.21it/s]"
          ],
          "name": "stderr"
        },
        {
          "output_type": "stream",
          "text": [
            "[MoviePy] Done.\n"
          ],
          "name": "stdout"
        },
        {
          "output_type": "stream",
          "text": [
            "\n"
          ],
          "name": "stderr"
        }
      ]
    },
    {
      "cell_type": "code",
      "metadata": {
        "id": "mONO19hiV6pz",
        "colab": {
          "base_uri": "https://localhost:8080/"
        },
        "outputId": "af697e71-8958-48b7-b3cd-52aee355d81b"
      },
      "source": [
        "# files                                                                         \n",
        "src = \"my_result.mp3\"\n",
        "dst = \"audio.wav\"\n",
        "\n",
        "# convert wav to mp3                                                            \n",
        "sound = AudioSegment.from_mp3(src)\n",
        "sound.export(dst, format=\"wav\")"
      ],
      "execution_count": null,
      "outputs": [
        {
          "output_type": "execute_result",
          "data": {
            "text/plain": [
              "<_io.BufferedRandom name='audio.wav'>"
            ]
          },
          "metadata": {
            "tags": []
          },
          "execution_count": 4
        }
      ]
    },
    {
      "cell_type": "code",
      "metadata": {
        "id": "ZAjjPCO17spj"
      },
      "source": [
        "r = sr.Recognizer()\n",
        "audio_path=\"/content/audio.wav\"\n",
        "audio= sr.AudioFile(audio_path)\n",
        "with audio as source:\n",
        "  audio1 = r.record(source)\n"
      ],
      "execution_count": null,
      "outputs": []
    },
    {
      "cell_type": "code",
      "metadata": {
        "id": "r5WWwW1yChuc",
        "colab": {
          "base_uri": "https://localhost:8080/"
        },
        "outputId": "c9af9e66-4b60-4921-ea65-6bc6f3aa0351"
      },
      "source": [
        "with contextlib.closing(wave.open(audio_path,'r')) as f:\n",
        "    frames = f.getnframes()\n",
        "    rate = f.getframerate()\n",
        "    duration = round(frames / float(rate),2)\n",
        "    print(duration)\n"
      ],
      "execution_count": null,
      "outputs": [
        {
          "output_type": "stream",
          "text": [
            "200.11\n"
          ],
          "name": "stdout"
        }
      ]
    },
    {
      "cell_type": "code",
      "metadata": {
        "id": "8OM1EK228Hfd"
      },
      "source": [
        "text1=r.recognize_google(audio1, language=\"fr-FR\")"
      ],
      "execution_count": null,
      "outputs": []
    },
    {
      "cell_type": "code",
      "metadata": {
        "id": "ILruwufsWpeR",
        "colab": {
          "base_uri": "https://localhost:8080/",
          "height": 154
        },
        "outputId": "6f55d906-2225-4bdb-f002-45c61af2c5a1"
      },
      "source": [
        "text1"
      ],
      "execution_count": null,
      "outputs": [
        {
          "output_type": "execute_result",
          "data": {
            "application/vnd.google.colaboratory.intrinsic+json": {
              "type": "string"
            },
            "text/plain": [
              "\"salut les amis j'espère que vous allez bien moi ça va très bien aujourd'hui on va parler d'un personnage mystérieux le comte de Saint-Germain le comte de Saint-Germain et un homme qui est sorti de nulle part on entend pour la première fois parler du compte en 1743 il devient très vite un personnage énigmatique on dit de lui qu'il est extrêmement riche que c'est un grand alchimiste et qui les guérisseurs mais par-dessus tout qu'il est immortel le comte de Saint-Germain aurait connu des personnes du passé comme le roi de France François 1er il parlait d'ailleurs des banquets que organisé François 1er et de la culture française à cette époque il raconte et d'ailleurs cette histoire avec tellement de précision que toutes les personnes qui entendait cette histoire était persuadé qu'il avait vécu à cette époque par la suite le compte à avouer qu'en fait il avait lu énormément de livres et avait une très bonne mémoire donc du coup c'est ça qui pouvait lui permettre de raconter toutes les histoires avec des. Vraiment précis mais malgré ça des personnes ne reste persuadé qu'en réalité ce n'est pas simplement qu'il a eu des histoires ou qu'il a une très bonne mémoire c'est simplement pour cacher son véritable secret son immortalité le compte a d'ailleurs été liés à plusieurs sociétés secrètes comme les francs-maçons les Illuminati ou bien l'Ordre des Templiers mais pas seulement il a été l'auteur d'un étrange manuscrit d'une forme triangulaire est totalement coder qui serait en réalité trois rituels le premier du manuscrit serait un texte visant à découvrir les trésors sous-marin le deuxième lui serait pour découvrir les mines d'or et pierres précieuses à travers le monde et le troisième rituel serait pour se rendre immortel le comte de Saint-Germain aurait été vu à 50 ans d'intervalle par plusieurs personnes sans que son aspect physique ne change Voltaire lui-même a dit de Saint-Germain qu'il est un homme qui ne meurt jamais et qui sait tous mes finale compte est mort à 93 ans en Allemagne sous un autre nom mais il faut savoir que son tombeau a été retrouvé totalement vide quelques années plus tard et des personnes leur est aperçu marcher dans la rue plusieurs années après sa mort alors d'après vous le compte est-il mort à 93 ans ou marche t-il encore parmi nous il se serait peut-être servie du 3e rituel du manuscrit afin de se rendre immortel donc simuler sa mort pour ne pas paraître trop étrange et ensuite ce serait relever pour aller finalement aller marcher aux quatre coins du monde les amis si cette vidéo vous a plu je vous dis à la semaine prochaine parce qu'on a une vidéo qui va tout déchirer encore un personnage qui a réellement existé qui est totalement énigmatique et qui a commis certaines choses qui fait que il est très intéressant alors je vous dis à la semaine prochaine on attend n'hésitez pas à me mettre un petit pouce bleu et abonnez-vous si c'est pas fait pour être au courant de la sortie de la vidéo de la semaine prochaine toujours et je vous dis à très vite Ciao\""
            ]
          },
          "metadata": {
            "tags": []
          },
          "execution_count": 8
        }
      ]
    },
    {
      "cell_type": "code",
      "metadata": {
        "id": "zFXNtBAL8MBB"
      },
      "source": [
        "text_str= str(text1)\n",
        "text_list= list(text_str.split())\n"
      ],
      "execution_count": null,
      "outputs": []
    },
    {
      "cell_type": "code",
      "metadata": {
        "id": "M8zcpmNh8QBX"
      },
      "source": [
        "d=defaultdict(int)\n",
        "for word in text_list:\n",
        "  d[word]+=1"
      ],
      "execution_count": null,
      "outputs": []
    },
    {
      "cell_type": "code",
      "metadata": {
        "id": "v2YxfkFt_Gev"
      },
      "source": [
        "for word in sorted(d, key=d.get, reverse=True):\n",
        "  if len(word)>3:\n",
        "    print(word, d[word])"
      ],
      "execution_count": null,
      "outputs": []
    },
    {
      "cell_type": "code",
      "metadata": {
        "id": "ckjg5TeDAeyz",
        "colab": {
          "base_uri": "https://localhost:8080/",
          "height": 34
        },
        "outputId": "03e71ae9-9af6-4218-ef4f-6aa0b78f59a7"
      },
      "source": [
        "len(text_list)-len(d)"
      ],
      "execution_count": null,
      "outputs": [
        {
          "output_type": "execute_result",
          "data": {
            "text/plain": [
              "170"
            ]
          },
          "metadata": {
            "tags": []
          },
          "execution_count": 16
        }
      ]
    },
    {
      "cell_type": "code",
      "metadata": {
        "id": "uvotSUWUDzJ0",
        "colab": {
          "base_uri": "https://localhost:8080/",
          "height": 286
        },
        "outputId": "f33c184d-43f4-440b-a8b9-59af095802d0"
      },
      "source": [
        "from wordcloud import WordCloud\n",
        "from PIL import Image\n",
        "import matplotlib.pyplot as plt\n",
        "\n",
        "wc = WordCloud(background_color=\"white\",width=1000,height=1000, max_words=20,relative_scaling=0.5,normalize_plurals=False).generate_from_frequencies(d)\n",
        "plt.imshow(wc)"
      ],
      "execution_count": null,
      "outputs": [
        {
          "output_type": "execute_result",
          "data": {
            "text/plain": [
              "<matplotlib.image.AxesImage at 0x7f25fee98898>"
            ]
          },
          "metadata": {
            "tags": []
          },
          "execution_count": 18
        },
        {
          "output_type": "display_data",
          "data": {
            "image/png": "[encoded data removed]",
            "text/plain": [
              "<Figure size 432x288 with 1 Axes>"
            ]
          },
          "metadata": {
            "tags": [],
            "needs_background": "light"
          }
        }
      ]
    },
    {
      "cell_type": "code",
      "metadata": {
        "id": "L6KhPUURHAOQ"
      },
      "source": [
        ""
      ],
      "execution_count": null,
      "outputs": []
    }
  ]
}